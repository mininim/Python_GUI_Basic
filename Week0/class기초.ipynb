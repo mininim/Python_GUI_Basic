{
 "cells": [
  {
   "cell_type": "markdown",
   "metadata": {},
   "source": [
    "## What is Class? "
   ]
  },
  {
   "cell_type": "markdown",
   "metadata": {},
   "source": [
    "#### 반복되는 변수 & 메서드(함수)를 미리 정해놓은 설계도 \n",
    "\n",
    "- Class : 붕어빵 틀   \n",
    "- Object : 붕어빵  \n",
    "- Instance : class로 만든 object    \n"
   ]
  },
  {
   "cell_type": "code",
   "execution_count": 33,
   "metadata": {},
   "outputs": [],
   "source": [
    "# class 문법 \n",
    "\n",
    "class 클래스이름():\n",
    "    변수 = \"변수\"\n",
    "    def __init__(self):\n",
    "        self.변수 = \"변수1\"\n",
    "        self.변수2 = \"변수2\"\n",
    "\n",
    "    def 메소드(self, 매개변수):\n",
    "        self.변수3 = 매개변수 \n",
    "        print(매개변수)\n",
    "\n",
    "인스턴스이름 = 클래스이름()"
   ]
  },
  {
   "cell_type": "code",
   "execution_count": 34,
   "metadata": {},
   "outputs": [],
   "source": [
    "class 붕어빵():\n",
    "    pass"
   ]
  },
  {
   "cell_type": "markdown",
   "metadata": {},
   "source": [
    "\n",
    "a = 뿡어빵()   \n",
    "Class - 뿡어빵  \n",
    "A - 객체 & 뿡어빵의 인스턴스\n",
    "\n",
    "Visualize Code site - https://pythontutor.com/visualize.html#mode=edit "
   ]
  },
  {
   "cell_type": "markdown",
   "metadata": {},
   "source": [
    "---"
   ]
  },
  {
   "cell_type": "markdown",
   "metadata": {},
   "source": [
    "---"
   ]
  },
  {
   "cell_type": "code",
   "execution_count": 36,
   "metadata": {},
   "outputs": [
    {
     "name": "stdout",
     "output_type": "stream",
     "text": [
      "2\n",
      "0\n"
     ]
    }
   ],
   "source": [
    "sum = 0 \n",
    "\n",
    "def add(num):\n",
    "    sum = 0\n",
    "    sum = sum + num\n",
    "    return sum\n",
    "\n",
    "print(add(2))\n",
    "print(sum)"
   ]
  },
  {
   "cell_type": "code",
   "execution_count": 38,
   "metadata": {},
   "outputs": [
    {
     "name": "stdout",
     "output_type": "stream",
     "text": [
      "3\n",
      "7\n",
      "3\n",
      "10\n"
     ]
    }
   ],
   "source": [
    "# Without class \n",
    "# Global 전역변수 \n",
    "\n",
    "result1 = 0\n",
    "result2 = 0\n",
    "\n",
    "def add1(num):\n",
    "    global result1\n",
    "    result1 += num\n",
    "    return result1\n",
    "\n",
    "def add2(num):\n",
    "    global result2\n",
    "    result2 += num\n",
    "    return result2\n",
    "\n",
    "print(add1(3))\n",
    "print(add1(4))\n",
    "print(add2(3))\n",
    "print(add2(7))"
   ]
  },
  {
   "cell_type": "code",
   "execution_count": 18,
   "metadata": {},
   "outputs": [
    {
     "name": "stdout",
     "output_type": "stream",
     "text": [
      "3\n",
      "7\n",
      "3\n",
      "10\n"
     ]
    }
   ],
   "source": [
    "class Calculator:\n",
    "    def __init__(self):\n",
    "        self.result = 0\n",
    "\n",
    "    def add(self, num):\n",
    "        self.result += num\n",
    "        return self.result\n",
    "\n",
    "\n",
    "cal1 = Calculator()\n",
    "cal2 = Calculator()\n",
    "\n",
    "print(cal1.add(3))\n",
    "print(cal1.add(4))\n",
    "print(cal2.add(3))\n",
    "print(cal2.add(7))"
   ]
  },
  {
   "cell_type": "code",
   "execution_count": 19,
   "metadata": {},
   "outputs": [],
   "source": [
    "class FourCal:\n",
    "    def __init__(self, first, second):\n",
    "        self.first = first\n",
    "        self.second = second\n",
    "    def setdata(self, first, second):\n",
    "        self.first = first\n",
    "        self.second = second\n",
    "    def add(self):\n",
    "        result = self.first + self.second\n",
    "        return result\n",
    "    def mul(self):\n",
    "        result = self.first * self.second\n",
    "        return result\n",
    "    def sub(self):\n",
    "        result = self.first - self.second\n",
    "        return result\n",
    "    def div(self):\n",
    "        result = self.first / self.second\n",
    "        return result"
   ]
  },
  {
   "cell_type": "code",
   "execution_count": 23,
   "metadata": {},
   "outputs": [
    {
     "data": {
      "text/plain": [
       "3"
      ]
     },
     "execution_count": 23,
     "metadata": {},
     "output_type": "execute_result"
    }
   ],
   "source": [
    "a = FourCal(1, 3)\n",
    "\n",
    "a.add()"
   ]
  },
  {
   "cell_type": "code",
   "execution_count": 28,
   "metadata": {},
   "outputs": [
    {
     "name": "stdout",
     "output_type": "stream",
     "text": [
      "first method without self\n",
      "second method with self\n",
      "second method with self\n"
     ]
    }
   ],
   "source": [
    "# 객체 변수 초기화 - __init__\n",
    "# self 키워드 : 어떤 인스턴스인지 확인 <-> 클래스 변수\n",
    "\n",
    "# 정의부 def 메소드명(self, 매개변수): \n",
    "# self를 사용하지 않으면 Class 변수 \n",
    "# 실행부에서 self는 (인스턴스).메소드명(전달인자)\n",
    "\n",
    "class WhatIsSelf():\n",
    "    def firstmethod():\n",
    "        print(\"first method without self\")\n",
    "    \n",
    "    def secondmethod(self):\n",
    "        print(\"second method with self\")\n",
    "\n",
    "\n",
    "WhatIsSelf.firstmethod()\n",
    "# error \n",
    "# WhatIsSelf.secondmethod()\n",
    "\n",
    "\n",
    "a = WhatIsSelf()\n",
    "\n",
    "a.secondmethod()\n",
    "# error \n",
    "# a.firstmethod()\n",
    "\n",
    "WhatIsSelf.secondmethod(a)\n"
   ]
  },
  {
   "cell_type": "markdown",
   "metadata": {},
   "source": [
    "추천 예제 : \n",
    "1. 성씨 집안 class 만들기 (성씨, 이름 추가 메서드)\n",
    "2. 가게 class (가게명, 파는 물건, 구매 메서드)"
   ]
  },
  {
   "cell_type": "markdown",
   "metadata": {},
   "source": [
    "### QMainWindow, Widget 모두 Class \n",
    "  \n",
    "QMainWindow를 상속받아 MainWindow를 만들고 그 안에 Widget 객체들을 추가하여 원하는 화면을 구현 \n",
    "\n",
    "definition of QLabel\n",
    "https://doc.qt.io/qtforpython-5/PySide2/QtWidgets/QLabel.html"
   ]
  },
  {
   "cell_type": "markdown",
   "metadata": {},
   "source": []
  }
 ],
 "metadata": {
  "kernelspec": {
   "display_name": "Python 3.10.8 64-bit",
   "language": "python",
   "name": "python3"
  },
  "language_info": {
   "codemirror_mode": {
    "name": "ipython",
    "version": 3
   },
   "file_extension": ".py",
   "mimetype": "text/x-python",
   "name": "python",
   "nbconvert_exporter": "python",
   "pygments_lexer": "ipython3",
   "version": "3.10.8"
  },
  "orig_nbformat": 4,
  "vscode": {
   "interpreter": {
    "hash": "949777d72b0d2535278d3dc13498b2535136f6dfe0678499012e853ee9abcab1"
   }
  }
 },
 "nbformat": 4,
 "nbformat_minor": 2
}
