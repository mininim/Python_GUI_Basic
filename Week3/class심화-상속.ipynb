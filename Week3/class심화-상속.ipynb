{
 "cells": [
  {
   "cell_type": "markdown",
   "metadata": {},
   "source": [
    "### 예제1 - 비행기 정보를 관리 class를 만들어보자!  \n",
    "- 비행기 번호를 멤버 변수로 저장\n",
    "- number() 메소드 : 비행기 번호를 반환 "
   ]
  },
  {
   "cell_type": "markdown",
   "metadata": {},
   "source": [
    ".  \n",
    ".  \n",
    ".  \n",
    ".  \n",
    ".  \n",
    ".  \n",
    ".  \n",
    ".  \n",
    ".  \n",
    ".  \n",
    ".  \n",
    ".  \n",
    ".  \n",
    ".  \n",
    ".  \n",
    ".  \n",
    ".  \n",
    ".  "
   ]
  },
  {
   "cell_type": "code",
   "execution_count": 4,
   "metadata": {},
   "outputs": [],
   "source": [
    "class Flight:\n",
    "    def __init__(self, number):\n",
    "        self._number = number\n",
    "\n",
    "    def number(self):\n",
    "        return self._number"
   ]
  },
  {
   "cell_type": "markdown",
   "metadata": {},
   "source": [
    "### 예제1 심화 - 비행기 정보 여러개를 관리할 수 있는 class를 만들어보자!\n",
    "- 비행기 번호들을 여러개 저장하는 방법은?\n",
    "- add_flight() : 비행기 번호 추가 \n",
    "- flights() : 비행기 번호들 출력"
   ]
  },
  {
   "cell_type": "markdown",
   "metadata": {},
   "source": [
    ".  \n",
    ".  \n",
    ".  \n",
    ".  \n",
    ".  \n",
    ".  \n",
    ".  \n",
    ".  \n",
    ".  \n",
    ".  \n",
    ".  \n",
    ".  \n",
    ".  \n",
    ".  \n",
    ".  \n",
    ".  \n",
    ".  \n",
    ".  "
   ]
  },
  {
   "cell_type": "code",
   "execution_count": 24,
   "metadata": {},
   "outputs": [
    {
     "name": "stdout",
     "output_type": "stream",
     "text": [
      "712\n",
      "522\n",
      "712\n",
      "522\n"
     ]
    }
   ],
   "source": [
    "class Flight:\n",
    "    class_attr = []\n",
    "\n",
    "    def __init__(self):\n",
    "        self.class_attr = []\n",
    "\n",
    "    def add_flight(self, number):\n",
    "        self.class_attr.append(number)\n",
    "\n",
    "    def flights(self):\n",
    "        for i in self.class_attr:\n",
    "            print(i)\n",
    "            \n",
    "            \n",
    "a = Flight()\n",
    "a.add_flight(712)\n",
    "a.add_flight(522)\n",
    "a.flights()\n",
    "\n",
    "ba = Flight()\n",
    "ba.flights()\n",
    "a.flights()\n",
    "\n"
   ]
  },
  {
   "cell_type": "markdown",
   "metadata": {},
   "source": [
    "### 예제2 - checkbox class를 만들어보자! \n",
    "- 체크 되어있는지 체크되어 있지 않은지 확인할 수 있는 class를 만들어보자! \n",
    "- 클래스 속성으로 class의 이름을 저장해보자!\n",
    "- +) 인스턴스 속성과 클래스 속성 \n",
    "- 인스턴스 속성 - __init__() 안에 self.속성 \n",
    "- 클래스 속성 -  클래스 안에 바로 할당 "
   ]
  },
  {
   "cell_type": "code",
   "execution_count": 27,
   "metadata": {},
   "outputs": [
    {
     "name": "stdout",
     "output_type": "stream",
     "text": [
      "0\n",
      "False\n",
      "True\n",
      "mycheckBox\n",
      "checkBox\n",
      "------\n",
      "mycheckBox\n",
      "checkBox\n"
     ]
    }
   ],
   "source": [
    "class checkbox:\n",
    "\n",
    "    name = 'checkBox'\n",
    "    \n",
    "    def __init__(self):\n",
    "        self.isChecked = 0\n",
    "        self.name = \"mycheckBox\"\n",
    "    \n",
    "    def click(self):\n",
    "        if self.isChecked == 0:\n",
    "            self.isChecked = 2\n",
    "        else:\n",
    "            self.isChecked = 0\n",
    "\n",
    "    def checkreturn(self):\n",
    "        if self.isChecked:\n",
    "            return True\n",
    "        else:\n",
    "            return False\n",
    "\n",
    "\n",
    "a = checkbox()\n",
    "a.click()\n",
    "a.click()\n",
    "print(a.isChecked)\n",
    "print(a.checkreturn())\n",
    "a.click()\n",
    "print(a.checkreturn())\n",
    "\n",
    "print(a.name)\n",
    "print(checkbox.name)\n",
    "\n",
    "b = checkbox()\n",
    "\n",
    "\n",
    "print(\"------\")\n",
    "\n",
    "c = checkbox()\n",
    "print(c.name)\n",
    "print(checkbox.name)\n"
   ]
  },
  {
   "cell_type": "markdown",
   "metadata": {},
   "source": [
    "## 상속(inheritance) 이란?\n",
    "\n",
    "- 클래스에서 상속이란, 물려주는 클래스(Parent Class, Super class)의 내용(속성과 메소드)을 물려받는 클래스(Child class, sub class)가 가지게 되는 것입니다.\n",
    "- 예를 들면 국가라는 클래스가 있고, 그것을 상속받은 한국, 일본, 중국, 미국 등의 클래스를 만들 수 있으며, 국가라는 클래스의 기본적인 속성으로 인구라는 속성을 만들었다면, 상속 받은 한국, 일본, 중국 등등의 클래스에서 부모 클래스의 속성과 메소드를 사용할 수 있음을 말합니다.\n",
    "- 기본적인 사용방법은 아래와 같습니다.\n",
    "- 자식클래스를 선언할때 소괄호로 부모클래스를 포함시킵니다.\n",
    "- 그러면 자식클래스에서는 부모클래스의 속성과 메소드는 기재하지 않아도 포함이 됩니다.\n"
   ]
  },
  {
   "cell_type": "code",
   "execution_count": 7,
   "metadata": {},
   "outputs": [],
   "source": [
    "class 부모클래스:\n",
    "    pass\n",
    "\n",
    "class 자식클래스(부모클래스):\n",
    "    pass"
   ]
  },
  {
   "cell_type": "markdown",
   "metadata": {},
   "source": [
    "### 예제3 - CheckBox class를 상속받아 초기상태가 checked인 CheckedBox class를 만들어보자! \n",
    "- 처음 초기화할때 checked 상태인 CheckBox 자식 클래스를 만들어보장!"
   ]
  },
  {
   "cell_type": "code",
   "execution_count": 8,
   "metadata": {},
   "outputs": [
    {
     "name": "stdout",
     "output_type": "stream",
     "text": [
      "1\n"
     ]
    }
   ],
   "source": [
    "class checkedCheckBox(checkbox):\n",
    "    \n",
    "    def __init__(self):\n",
    "        self.isChecked = 1\n",
    "        self.name = \"checkedCheckBox\"\n",
    "        \n",
    "b = checkedCheckBox()\n",
    "print(b.isChecked)\n",
    "\n",
    "\n",
    "# class checkedCheckBox(checkbox):\n",
    "    \n",
    "#     def __init__(self):\n",
    "#         super().__init__()\n",
    "#         print(self.isChecked)\n",
    "#         self.isChecked = 1\n",
    "#         print(self.isChecked)\n",
    "#         self.name = \"checkedCheckBox\"\n",
    "        \n",
    "# b = checkedCheckBox()\n",
    "# super()"
   ]
  },
  {
   "cell_type": "markdown",
   "metadata": {},
   "source": [
    "### 메소드 오버로딩 \n",
    "- 메소드 오버라이딩은 부모 클래스의 메소드를 자식 클래스에서 재정의 하는 것입니다.\n",
    "- 부모 메소드를 사용하기 위해서는 super()키워드 사용 가능 "
   ]
  },
  {
   "cell_type": "code",
   "execution_count": 30,
   "metadata": {},
   "outputs": [
    {
     "name": "stdout",
     "output_type": "stream",
     "text": [
      "쇼핑바구니\n"
     ]
    }
   ],
   "source": [
    "class shoppingBasketCheckBox(checkbox):\n",
    "    \n",
    "    def __init__(self):\n",
    "        self.name = \"쇼핑바구니\"\n",
    "    \n",
    "    def checkreturn(self):\n",
    "        if self.isChecked:\n",
    "            return \"구매 확정\"\n",
    "        else:\n",
    "            return \"장바구니\"\n",
    "\n",
    "\n",
    "a = shoppingBasketCheckBox()\n",
    "print(a.name)\n"
   ]
  },
  {
   "cell_type": "markdown",
   "metadata": {},
   "source": [
    "## Class hierarchy - Class 계층\n",
    "\n",
    "- ![pyQt5 Class hierarchy](./QtclassHIerarchy.png)\n",
    "- https://wiki.qt.io/Qt_for_Beginners "
   ]
  },
  {
   "cell_type": "markdown",
   "metadata": {},
   "source": []
  }
 ],
 "metadata": {
  "kernelspec": {
   "display_name": "Python 3.10.8 64-bit",
   "language": "python",
   "name": "python3"
  },
  "language_info": {
   "codemirror_mode": {
    "name": "ipython",
    "version": 3
   },
   "file_extension": ".py",
   "mimetype": "text/x-python",
   "name": "python",
   "nbconvert_exporter": "python",
   "pygments_lexer": "ipython3",
   "version": "3.10.8"
  },
  "orig_nbformat": 4,
  "vscode": {
   "interpreter": {
    "hash": "949777d72b0d2535278d3dc13498b2535136f6dfe0678499012e853ee9abcab1"
   }
  }
 },
 "nbformat": 4,
 "nbformat_minor": 2
}
